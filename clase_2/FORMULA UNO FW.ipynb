{
 "cells": [
  {
   "cell_type": "code",
   "execution_count": 1,
   "id": "5e13f28a-a11e-497c-bfc4-27ea9bcd5455",
   "metadata": {},
   "outputs": [],
   "source": [
    "pilotos =  [\"George Russell\",\n",
    "            \"Lewis Hamilton\",\n",
    "            \"Pierre Gasly\",\n",
    "            \"Esteban Ocon\",\n",
    "            \"Nico Hulkenberg\",\n",
    "            \"Kevin Magnussen\",\n",
    "            \"Max Verstappen\",\n",
    "            \"Sergio Pérez\",\n",
    "            \"Lando Norris\",\n",
    "            \"Oscar Piastri\",\n",
    "            \"Fernando Alonso\",\n",
    "            \"Lance Stroll\",\n",
    "            \"Yuki Tsunoda\",\n",
    "            \"Daniel Ricciardo\",\n",
    "            \"Charles Leclerc\",\n",
    "            \"Carlos Sainz\",\n",
    "            \"Valtteri Bottas\",\n",
    "            \"Guanyu Zhou\",\n",
    "            \"Alexander Albon\",\n",
    "            \"Logan Sargeant\",\n",
    "            \"Sergio Pérez\"]\n",
    "\n",
    "tiempos =  [[3610, 115, 30],\n",
    "            [6100, 115, 52],\n",
    "            [6153, 116, 52],\n",
    "            [6140, 116, 52],\n",
    "            [6141, 116, 52],\n",
    "            [6160, 115, 52],\n",
    "            [6165, 114, 52],\n",
    "            [6172, 112, 52],\n",
    "            [6175, 115, 52],\n",
    "            [6177, 114, 52],\n",
    "            [4720, 111, 40],\n",
    "            [6111, 114, 52],\n",
    "            [ 700, 119, 5],\n",
    "            [6201, 118, 52],\n",
    "            [6133, 114, 52],\n",
    "            [1205, 118, 10],\n",
    "            [6272, 122, 52],\n",
    "            [ 700, 119, 5],\n",
    "            [6475, 144, 52],\n",
    "            [5720, 151, 30],\n",
    "            [6130, 11, 52]]\n",
    "\n",
    "pilotos_escuderias=[\"GEORGE RUSSELL\",\"MERCEDES\",\n",
    "                    \"LEWIS HAMILTON\",\"MERCEDES\",\n",
    "                    \"PIERRE GASLY\",\"ALPINE\",\n",
    "                    \"ESTEBAN OCON\",\"ALPINE\",\n",
    "                    \"NICO HULKENBERG\",\"HAAS\",\n",
    "                    \"KEVIN MAGNUSSEN\",\"HAAS\",\n",
    "                    \"MAX VERSTAPPEN\",\"RED BULL\",\n",
    "                    \"SERGIO PÉREZ\",\"RED BULL\",\n",
    "                    \"LANDO NORRIS\",\"MCLAREN\",\n",
    "                    \"OSCAR PIASTRI\",\"MCLAREN\",\n",
    "                    \"FERNANDO ALONSO\",\"ASTON MARTIN\",\n",
    "                    \"LANCE STROLL\",\"ASTON MARTIN\",\n",
    "                    \"YUKI TSUNODA\",\"RB\",\n",
    "                    \"DANIEL RICCIARDO\",\"RB\",\n",
    "                    \"CHARLES LECLERC\",\"FERRARI\",\n",
    "                    \"CARLOS SAINZ\",\"FERRARI\",\n",
    "                    \"VALTTERI BOTTAS\",\"KICK SAUBER\",\n",
    "                    \"GUANYU ZHOU\",\"KICK SAUBER\",\n",
    "                    \"ALEXANDER ALBON\",\"WILLIAMS\",\n",
    "                    \"LOGAN SARGEANT\",\"WILLIAMS\"]\n",
    "\n",
    "aux =  \"tiempo total en pista\", \"vuelta mas rapida\", \"total de vueltas\""
   ]
  },
  {
   "cell_type": "code",
   "execution_count": 2,
   "id": "803328ad-8b52-4783-910c-2b6074f66831",
   "metadata": {},
   "outputs": [],
   "source": [
    "# 0) Estructura de datos:\n",
    "\n",
    "def crear_diccionario():\n",
    "    dic_pilotos = {}\n",
    "    global tiempos\n",
    "    for piloto, tiempos in zip(pilotos, tiempos):\n",
    "        if piloto not in dic_pilotos.keys(): # contengo el error de valor duplicado y me quedo con la primer ocurrencia\n",
    "            dic_pilotos[piloto] = {clave: valor for clave, valor in zip(aux, tiempos)}\n",
    "    # Agrego la escuderia\n",
    "    for piloto in dic_pilotos:\n",
    "        dic_pilotos[piloto][\"escuderia\"] = pilotos_escuderias[pilotos_escuderias.index(piloto.upper())+1]\n",
    "    return dic_pilotos"
   ]
  },
  {
   "cell_type": "code",
   "execution_count": 3,
   "id": "9ee746c0-81a8-433e-b212-b0f29cfe4e6d",
   "metadata": {},
   "outputs": [],
   "source": [
    "dic_pilotos = crear_diccionario()"
   ]
  },
  {
   "cell_type": "code",
   "execution_count": 4,
   "id": "34e4ab92-aa2e-4638-b428-8a9a6ab06404",
   "metadata": {},
   "outputs": [
    {
     "data": {
      "text/plain": [
       "20"
      ]
     },
     "execution_count": 4,
     "metadata": {},
     "output_type": "execute_result"
    }
   ],
   "source": [
    "len(dic_pilotos)"
   ]
  },
  {
   "cell_type": "code",
   "execution_count": 5,
   "id": "34e5e5d0-864d-4469-ac88-c6f93919a9ea",
   "metadata": {},
   "outputs": [
    {
     "name": "stdout",
     "output_type": "stream",
     "text": [
      "George Russell {'tiempo total en pista': 3610, 'vuelta mas rapida': 115, 'total de vueltas': 30, 'escuderia': 'MERCEDES'}\n",
      "Lewis Hamilton {'tiempo total en pista': 6100, 'vuelta mas rapida': 115, 'total de vueltas': 52, 'escuderia': 'MERCEDES'}\n",
      "Pierre Gasly {'tiempo total en pista': 6153, 'vuelta mas rapida': 116, 'total de vueltas': 52, 'escuderia': 'ALPINE'}\n",
      "Esteban Ocon {'tiempo total en pista': 6140, 'vuelta mas rapida': 116, 'total de vueltas': 52, 'escuderia': 'ALPINE'}\n",
      "Nico Hulkenberg {'tiempo total en pista': 6141, 'vuelta mas rapida': 116, 'total de vueltas': 52, 'escuderia': 'HAAS'}\n",
      "Kevin Magnussen {'tiempo total en pista': 6160, 'vuelta mas rapida': 115, 'total de vueltas': 52, 'escuderia': 'HAAS'}\n",
      "Max Verstappen {'tiempo total en pista': 6165, 'vuelta mas rapida': 114, 'total de vueltas': 52, 'escuderia': 'RED BULL'}\n",
      "Sergio Pérez {'tiempo total en pista': 6172, 'vuelta mas rapida': 112, 'total de vueltas': 52, 'escuderia': 'RED BULL'}\n",
      "Lando Norris {'tiempo total en pista': 6175, 'vuelta mas rapida': 115, 'total de vueltas': 52, 'escuderia': 'MCLAREN'}\n",
      "Oscar Piastri {'tiempo total en pista': 6177, 'vuelta mas rapida': 114, 'total de vueltas': 52, 'escuderia': 'MCLAREN'}\n",
      "Fernando Alonso {'tiempo total en pista': 4720, 'vuelta mas rapida': 111, 'total de vueltas': 40, 'escuderia': 'ASTON MARTIN'}\n",
      "Lance Stroll {'tiempo total en pista': 6111, 'vuelta mas rapida': 114, 'total de vueltas': 52, 'escuderia': 'ASTON MARTIN'}\n",
      "Yuki Tsunoda {'tiempo total en pista': 700, 'vuelta mas rapida': 119, 'total de vueltas': 5, 'escuderia': 'RB'}\n",
      "Daniel Ricciardo {'tiempo total en pista': 6201, 'vuelta mas rapida': 118, 'total de vueltas': 52, 'escuderia': 'RB'}\n",
      "Charles Leclerc {'tiempo total en pista': 6133, 'vuelta mas rapida': 114, 'total de vueltas': 52, 'escuderia': 'FERRARI'}\n",
      "Carlos Sainz {'tiempo total en pista': 1205, 'vuelta mas rapida': 118, 'total de vueltas': 10, 'escuderia': 'FERRARI'}\n",
      "Valtteri Bottas {'tiempo total en pista': 6272, 'vuelta mas rapida': 122, 'total de vueltas': 52, 'escuderia': 'KICK SAUBER'}\n",
      "Guanyu Zhou {'tiempo total en pista': 700, 'vuelta mas rapida': 119, 'total de vueltas': 5, 'escuderia': 'KICK SAUBER'}\n",
      "Alexander Albon {'tiempo total en pista': 6475, 'vuelta mas rapida': 144, 'total de vueltas': 52, 'escuderia': 'WILLIAMS'}\n",
      "Logan Sargeant {'tiempo total en pista': 5720, 'vuelta mas rapida': 151, 'total de vueltas': 30, 'escuderia': 'WILLIAMS'}\n"
     ]
    }
   ],
   "source": [
    "for clave, valor in dic_pilotos.items():\n",
    "    print(clave, valor)"
   ]
  },
  {
   "cell_type": "code",
   "execution_count": 6,
   "id": "29ac34cc-4885-4723-ba7b-3ab90d055dc9",
   "metadata": {},
   "outputs": [
    {
     "name": "stdout",
     "output_type": "stream",
     "text": [
      "Abandonaron la carrera 6 pilotos:\n",
      "\n",
      "George Russell\n",
      "Fernando Alonso\n",
      "Yuki Tsunoda\n",
      "Carlos Sainz\n",
      "Guanyu Zhou\n",
      "Logan Sargeant\n",
      "\n",
      "La terminaron 14 pilotos:\n",
      "\n",
      "Lewis Hamilton\n",
      "Pierre Gasly\n",
      "Esteban Ocon\n",
      "Nico Hulkenberg\n",
      "Kevin Magnussen\n",
      "Max Verstappen\n",
      "Sergio Pérez\n",
      "Lando Norris\n",
      "Oscar Piastri\n",
      "Lance Stroll\n",
      "Daniel Ricciardo\n",
      "Charles Leclerc\n",
      "Valtteri Bottas\n",
      "Alexander Albon\n"
     ]
    }
   ],
   "source": [
    "# 1) Manupulacion de datos:\n",
    "# A) Genera dos listas de los pilotos que abandonaro y los que no.\n",
    "\n",
    "def buscar_total_vueltas():\n",
    "    \"\"\"\n",
    "    Busco el maximo de vueltas que seria el total de vueltas de la carrera\n",
    "    \"\"\"\n",
    "    total_vueltas = 0\n",
    "    for piloto, tiempos in dic_pilotos.items():\n",
    "        if dic_pilotos[piloto][\"total de vueltas\"] >= total_vueltas:\n",
    "            total_vueltas = dic_pilotos[piloto][\"total de vueltas\"]\n",
    "    return total_vueltas\n",
    "\n",
    "# Creo las listas de pilotos que terminaron y pilotos que abandonaron\n",
    "abandonaron = []\n",
    "terminaron = []\n",
    "total_vueltas = buscar_total_vueltas()\n",
    "for piloto, tiempos in dic_pilotos.items():\n",
    "    if tiempos[\"total de vueltas\"] == total_vueltas:\n",
    "        terminaron.append(piloto)\n",
    "    else :\n",
    "        abandonaron.append(piloto)\n",
    "    \n",
    "print(f\"Abandonaron la carrera {len(abandonaron)} pilotos:\\n\")\n",
    "for piloto in abandonaron:\n",
    "    print(piloto)\n",
    "print(f\"\\nLa terminaron {len(terminaron)} pilotos:\\n\")\n",
    "for piloto in terminaron:\n",
    "    print(piloto)"
   ]
  },
  {
   "cell_type": "code",
   "execution_count": 7,
   "id": "db4fbf30-bd80-4ae7-bb95-83d041d66766",
   "metadata": {},
   "outputs": [
    {
     "name": "stdout",
     "output_type": "stream",
     "text": [
      "Lewis Hamilton\n",
      "{'tiempo total en pista': 6100, 'vuelta mas rapida': 115, 'total de vueltas': 52, 'escuderia': 'MERCEDES'}\n"
     ]
    }
   ],
   "source": [
    "# B) Quien gano, con que tiempos de vuelta y totales\n",
    "\n",
    "def buscar_ganador():\n",
    "    tiempo_en_pista = 1000000\n",
    "    for piloto in dic_pilotos.keys():\n",
    "        if piloto in terminaron:\n",
    "            if dic_pilotos[piloto][\"tiempo total en pista\"] <= tiempo_en_pista:\n",
    "                tiempo_en_pista = dic_pilotos[piloto][\"tiempo total en pista\"]\n",
    "                piloto_ganador = piloto\n",
    "                tiempos_ganador = dic_pilotos[piloto]\n",
    "    return piloto_ganador, tiempos_ganador\n",
    "\n",
    "piloto_ganador, tiempos_ganador = buscar_ganador()\n",
    "print(piloto_ganador)\n",
    "print(tiempos_ganador)"
   ]
  },
  {
   "cell_type": "code",
   "execution_count": 8,
   "id": "69f279e4-db43-49a1-916d-f3e187e3b590",
   "metadata": {},
   "outputs": [
    {
     "name": "stdout",
     "output_type": "stream",
     "text": [
      "{'primero': {'Nombre': 'Lewis Hamilton', 'tiempo total en pista': 6100, 'vuelta mas rapida': 115, 'escuderia': 'MERCEDES'}, 'segundo': {'Nombre': 'Lance Stroll', 'tiempo total en pista': 6111, 'vuelta mas rapida': 114, 'escuderia': 'ASTON MARTIN'}, 'tercero': {'Nombre': 'Charles Leclerc', 'tiempo total en pista': 6133, 'vuelta mas rapida': 114, 'escuderia': 'FERRARI'}}\n",
      "\n",
      "primero Lewis Hamilton 6100 115 MERCEDES\n",
      "segundo Lance Stroll 6111 114 ASTON MARTIN\n",
      "tercero Charles Leclerc 6133 114 FERRARI\n"
     ]
    }
   ],
   "source": [
    "# C) Genera el dicionario del podio\n",
    "#    podio= {\n",
    "#           \"primero\":{\"Apellido\":\"\",\"tiempo_Total en pista\":0, \"vuelta Mas Rapida\":0},\n",
    "#            \"segundo\":{\"Apellido\":\"\",\"tiempo_Total en pista\":0, \"vuelta Mas Rapida\":0},\n",
    "#            \"tercero\":{\"Apellido\":\"\",\"tiempo_Total en pista\":0, \"vuelta Mas Rapida\":0}\n",
    "#            }\n",
    "\n",
    "def crear_podio(puestos):\n",
    "    dic_podio = {}\n",
    "    for puesto in puestos:\n",
    "        min_tiempo_en_pista = 1000000\n",
    "        for piloto in dic_pilotos.keys():\n",
    "            # con all() y un for por comprension itero sobre todo el dic_podio buscando si el piloto ya esta ahi\n",
    "            if all(piloto != piloto_en_podio[\"Nombre\"] for piloto_en_podio in dic_podio.values()) and \\\n",
    "               piloto in terminaron and \\\n",
    "               dic_pilotos[piloto][\"tiempo total en pista\"] <= min_tiempo_en_pista:\n",
    "                dic_podio[puesto] = {\"Nombre\":piloto, \\\n",
    "                                     \"tiempo total en pista\":dic_pilotos[piloto][\"tiempo total en pista\"], \\\n",
    "                                     \"vuelta mas rapida\":dic_pilotos[piloto][\"vuelta mas rapida\"], \\\n",
    "                                     \"escuderia\":dic_pilotos[piloto][\"escuderia\"]}\n",
    "                min_tiempo_en_pista = dic_pilotos[piloto][\"tiempo total en pista\"]\n",
    "    return dic_podio\n",
    "\n",
    "puestos = [\"primero\", \"segundo\", \"tercero\"]\n",
    "dic_podio = crear_podio(puestos)\n",
    "print(dic_podio, end = \"\\n\\n\")\n",
    "for puesto in dic_podio.keys():\n",
    "    print(puesto, dic_podio[puesto][\"Nombre\"], \\\n",
    "          dic_podio[puesto][\"tiempo total en pista\"], \\\n",
    "          dic_podio[puesto][\"vuelta mas rapida\"], \\\n",
    "          dic_podio[puesto][\"escuderia\"])"
   ]
  },
  {
   "cell_type": "code",
   "execution_count": 9,
   "id": "56df0286-527c-4ce5-9382-83dedcbbac91",
   "metadata": {},
   "outputs": [
    {
     "name": "stdout",
     "output_type": "stream",
     "text": [
      "[1, 2, 3, 4, 5, 6, 7, 8, 9, 10, 11, 12, 13, 14, 15, 16, 17, 18, 19, 20]\n"
     ]
    }
   ],
   "source": [
    "ranking = [i for i in range(1, len(dic_pilotos)+1, 1)]\n",
    "print(ranking)"
   ]
  },
  {
   "cell_type": "code",
   "execution_count": 10,
   "id": "62e606ed-38ff-411e-bb1e-27120fcce97f",
   "metadata": {},
   "outputs": [
    {
     "name": "stdout",
     "output_type": "stream",
     "text": [
      "{1: {'Nombre': 'Lewis Hamilton', 'tiempo total en pista': 6100, 'vuelta mas rapida': 115, 'escuderia': 'MERCEDES'}, 2: {'Nombre': 'Lance Stroll', 'tiempo total en pista': 6111, 'vuelta mas rapida': 114, 'escuderia': 'ASTON MARTIN'}, 3: {'Nombre': 'Charles Leclerc', 'tiempo total en pista': 6133, 'vuelta mas rapida': 114, 'escuderia': 'FERRARI'}, 4: {'Nombre': 'Esteban Ocon', 'tiempo total en pista': 6140, 'vuelta mas rapida': 116, 'escuderia': 'ALPINE'}, 5: {'Nombre': 'Nico Hulkenberg', 'tiempo total en pista': 6141, 'vuelta mas rapida': 116, 'escuderia': 'HAAS'}, 6: {'Nombre': 'Pierre Gasly', 'tiempo total en pista': 6153, 'vuelta mas rapida': 116, 'escuderia': 'ALPINE'}, 7: {'Nombre': 'Kevin Magnussen', 'tiempo total en pista': 6160, 'vuelta mas rapida': 115, 'escuderia': 'HAAS'}, 8: {'Nombre': 'Max Verstappen', 'tiempo total en pista': 6165, 'vuelta mas rapida': 114, 'escuderia': 'RED BULL'}, 9: {'Nombre': 'Sergio Pérez', 'tiempo total en pista': 6172, 'vuelta mas rapida': 112, 'escuderia': 'RED BULL'}, 10: {'Nombre': 'Lando Norris', 'tiempo total en pista': 6175, 'vuelta mas rapida': 115, 'escuderia': 'MCLAREN'}, 11: {'Nombre': 'Oscar Piastri', 'tiempo total en pista': 6177, 'vuelta mas rapida': 114, 'escuderia': 'MCLAREN'}, 12: {'Nombre': 'Daniel Ricciardo', 'tiempo total en pista': 6201, 'vuelta mas rapida': 118, 'escuderia': 'RB'}, 13: {'Nombre': 'Valtteri Bottas', 'tiempo total en pista': 6272, 'vuelta mas rapida': 122, 'escuderia': 'KICK SAUBER'}, 14: {'Nombre': 'Alexander Albon', 'tiempo total en pista': 6475, 'vuelta mas rapida': 144, 'escuderia': 'WILLIAMS'}}\n",
      "\n",
      "1 Lewis Hamilton 6100 115 MERCEDES\n",
      "2 Lance Stroll 6111 114 ASTON MARTIN\n",
      "3 Charles Leclerc 6133 114 FERRARI\n",
      "4 Esteban Ocon 6140 116 ALPINE\n",
      "5 Nico Hulkenberg 6141 116 HAAS\n",
      "6 Pierre Gasly 6153 116 ALPINE\n",
      "7 Kevin Magnussen 6160 115 HAAS\n",
      "8 Max Verstappen 6165 114 RED BULL\n",
      "9 Sergio Pérez 6172 112 RED BULL\n",
      "10 Lando Norris 6175 115 MCLAREN\n",
      "11 Oscar Piastri 6177 114 MCLAREN\n",
      "12 Daniel Ricciardo 6201 118 RB\n",
      "13 Valtteri Bottas 6272 122 KICK SAUBER\n",
      "14 Alexander Albon 6475 144 WILLIAMS\n"
     ]
    }
   ],
   "source": [
    "dic_ranking_terminaron = crear_podio(ranking)\n",
    "print(dic_ranking_terminaron, end = \"\\n\\n\")\n",
    "for puesto in dic_ranking_terminaron.keys():\n",
    "    print(puesto, dic_ranking_terminaron[puesto][\"Nombre\"], \\\n",
    "          dic_ranking_terminaron[puesto][\"tiempo total en pista\"], \\\n",
    "          dic_ranking_terminaron[puesto][\"vuelta mas rapida\"], \\\n",
    "          dic_ranking_terminaron[puesto][\"escuderia\"])"
   ]
  },
  {
   "cell_type": "code",
   "execution_count": 11,
   "id": "35be41fa-56fc-489a-9720-0e88a11d7bc1",
   "metadata": {},
   "outputs": [
    {
     "name": "stdout",
     "output_type": "stream",
     "text": [
      "{1: {'Nombre': 'Lewis Hamilton', 'tiempo total en pista': 6100, 'vuelta mas rapida': 115, 'escuderia': 'MERCEDES', 'puntos': 25}, 2: {'Nombre': 'Lance Stroll', 'tiempo total en pista': 6111, 'vuelta mas rapida': 114, 'escuderia': 'ASTON MARTIN', 'puntos': 18}, 3: {'Nombre': 'Charles Leclerc', 'tiempo total en pista': 6133, 'vuelta mas rapida': 114, 'escuderia': 'FERRARI', 'puntos': 15}, 4: {'Nombre': 'Esteban Ocon', 'tiempo total en pista': 6140, 'vuelta mas rapida': 116, 'escuderia': 'ALPINE', 'puntos': 12}, 5: {'Nombre': 'Nico Hulkenberg', 'tiempo total en pista': 6141, 'vuelta mas rapida': 116, 'escuderia': 'HAAS', 'puntos': 10}, 6: {'Nombre': 'Pierre Gasly', 'tiempo total en pista': 6153, 'vuelta mas rapida': 116, 'escuderia': 'ALPINE', 'puntos': 8}, 7: {'Nombre': 'Kevin Magnussen', 'tiempo total en pista': 6160, 'vuelta mas rapida': 115, 'escuderia': 'HAAS', 'puntos': 6}, 8: {'Nombre': 'Max Verstappen', 'tiempo total en pista': 6165, 'vuelta mas rapida': 114, 'escuderia': 'RED BULL', 'puntos': 4}, 9: {'Nombre': 'Sergio Pérez', 'tiempo total en pista': 6172, 'vuelta mas rapida': 112, 'escuderia': 'RED BULL', 'puntos': 2}, 10: {'Nombre': 'Lando Norris', 'tiempo total en pista': 6175, 'vuelta mas rapida': 115, 'escuderia': 'MCLAREN', 'puntos': 1}, 11: {'Nombre': 'Fernando Alonso', 'tiempo total en pista': 'NO TERMINO', 'vuelta mas rapida': 111, 'escuderia': 'ASTON MARTIN', 'puntos': 1}}\n",
      "\n",
      "1 Lewis Hamilton 25 MERCEDES\n",
      "2 Lance Stroll 18 ASTON MARTIN\n",
      "3 Charles Leclerc 15 FERRARI\n",
      "4 Esteban Ocon 12 ALPINE\n",
      "5 Nico Hulkenberg 10 HAAS\n",
      "6 Pierre Gasly 8 ALPINE\n",
      "7 Kevin Magnussen 6 HAAS\n",
      "8 Max Verstappen 4 RED BULL\n",
      "9 Sergio Pérez 2 RED BULL\n",
      "10 Lando Norris 1 MCLAREN\n",
      "11 Fernando Alonso 1 ASTON MARTIN\n"
     ]
    }
   ],
   "source": [
    "# E) Genera el diccionario de puntaje obtenido por cada piloto:\n",
    "# Para simplificar, solo reciben puntos los pilotos que hayan finalizado la carrera,\n",
    "# salvo que sea el piloto que hizo la vuelta mas rapida quien recibirá un punto extra haya o no finalizado la carrera.\n",
    "# datos:\n",
    "# puntos = [25, 18, 15, 12, 10, 8, 6, 4, 2, 1]\n",
    "# En base a la lista de puntos por posición (el primero 25, el segundo 18, etc.)\n",
    "\n",
    "# Busco el piloto de la vuelta mas rapido\n",
    "def buscar_vuelta_mas_rapida():\n",
    "    vuelta_mas_rapida = 1000000\n",
    "    for piloto in dic_pilotos.keys():\n",
    "        if dic_pilotos[piloto][\"vuelta mas rapida\"] <= vuelta_mas_rapida:\n",
    "            piloto_vuelta_mas_rapida = piloto\n",
    "            vuelta_mas_rapida = dic_pilotos[piloto][\"vuelta mas rapida\"]\n",
    "    return piloto_vuelta_mas_rapida, vuelta_mas_rapida\n",
    "\n",
    "def crear_puntaje(puntos):\n",
    "    piloto_vuelta_mas_rapida, vuelta_mas_rapida = buscar_vuelta_mas_rapida()\n",
    "    dic_puntaje = crear_podio(range(1, len(puntos)+1, 1))\n",
    "    for puntaje, (clave, valor) in zip(puntos, dic_puntaje.items()):\n",
    "        dic_puntaje[clave][\"puntos\"] = puntaje\n",
    "    if all(piloto_vuelta_mas_rapida != piloto_en_puntaje[\"Nombre\"] for piloto_en_puntaje in dic_puntaje.values()):\n",
    "        dic_puntaje[len(puntos)+1] = {\"Nombre\":piloto_vuelta_mas_rapida, \\\n",
    "                                      \"tiempo total en pista\": \"NO TERMINO\", \\\n",
    "                                      \"vuelta mas rapida\": vuelta_mas_rapida, \\\n",
    "                                      \"escuderia\": dic_pilotos[piloto_vuelta_mas_rapida][\"escuderia\"], \\\n",
    "                                      \"puntos\":1}\n",
    "    else:\n",
    "        for clave, valor in dic_puntaje.items():\n",
    "            if dic_puntaje[clave][\"Nombre\"] == piloto_vuelta_mas_rapida:\n",
    "                dic_puntaje[clave][\"puntos\"] += 1\n",
    "    return dic_puntaje\n",
    "\n",
    "puntos = [25, 18, 15, 12, 10, 8, 6, 4, 2, 1]\n",
    "dic_puntaje = crear_puntaje(puntos)\n",
    "print(dic_puntaje, end=\"\\n\\n\")\n",
    "for puesto in dic_puntaje.keys():\n",
    "    print(puesto, dic_puntaje[puesto][\"Nombre\"], \\\n",
    "          dic_puntaje[puesto][\"puntos\"], \\\n",
    "          dic_puntaje[puesto][\"escuderia\"])"
   ]
  },
  {
   "cell_type": "code",
   "execution_count": 12,
   "id": "ccc2ff0b-58f4-4238-aecf-df2279b5321e",
   "metadata": {},
   "outputs": [],
   "source": [
    "# D) Genera el dicionario de los 3 pilotos mas rápidos\n",
    "#    piloto_mas_rapido= {\n",
    "#                        \"Apellido1\":puntos1,\n",
    "#                        \"Apellido2\":puntos2,\n",
    "#                        \"Apellido3\":puntos3,\n",
    "#                        }\n",
    "\n",
    "def buscar_vuelta_mas_rapida():\n",
    "    vuelta_mas_rapida = 1000000\n",
    "    for piloto in dic_pilotos.keys():\n",
    "        if dic_pilotos[piloto][\"vuelta mas rapida\"] <= vuelta_mas_rapida:\n",
    "            piloto_vuelta_mas_rapida = piloto\n",
    "            vuelta_mas_rapida = dic_pilotos[piloto][\"vuelta mas rapida\"]\n",
    "    return piloto_vuelta_mas_rapida, vuelta_mas_rapida"
   ]
  },
  {
   "cell_type": "code",
   "execution_count": 13,
   "id": "a95728dc-36b5-491c-b926-c034119152ab",
   "metadata": {},
   "outputs": [
    {
     "name": "stdout",
     "output_type": "stream",
     "text": [
      "{'MERCEDES': {'puntos': 25}, 'MCLAREN': {'puntos': 1}, 'KICK SAUBER': {'puntos': 0}, 'WILLIAMS': {'puntos': 0}, 'RED BULL': {'puntos': 6}, 'ALPINE': {'puntos': 20}, 'FERRARI': {'puntos': 15}, 'HAAS': {'puntos': 16}, 'ASTON MARTIN': {'puntos': 19}, 'RB': {'puntos': 0}}\n",
      "\n",
      "MERCEDES 25\n",
      "MCLAREN 1\n",
      "KICK SAUBER 0\n",
      "WILLIAMS 0\n",
      "RED BULL 6\n",
      "ALPINE 20\n",
      "FERRARI 15\n",
      "HAAS 16\n",
      "ASTON MARTIN 19\n",
      "RB 0\n"
     ]
    }
   ],
   "source": [
    "# 2) Escuderías\n",
    "# F) Puntos por escuderia\n",
    "\n",
    "def crear_escuderias():  \n",
    "    escuderias = []\n",
    "    for piloto in dic_pilotos.keys():\n",
    "        escuderias.append(dic_pilotos[piloto][\"escuderia\"])\n",
    "    escuderias = set(escuderias)\n",
    "    dic_escuderias = {escuderia: {\"puntos\":0} for escuderia in escuderias}\n",
    "    for escuderia in dic_escuderias:\n",
    "        for piloto in dic_puntaje:\n",
    "            if dic_puntaje[piloto][\"escuderia\"] == escuderia:\n",
    "                dic_escuderias[escuderia][\"puntos\"] += dic_puntaje[piloto][\"puntos\"]\n",
    "    return dic_escuderias\n",
    "    \n",
    "dic_escuderias = crear_escuderias()\n",
    "print(dic_escuderias, end=\"\\n\\n\")\n",
    "for escuderia in dic_escuderias.keys():\n",
    "    print(escuderia, dic_escuderias[escuderia][\"puntos\"])"
   ]
  },
  {
   "cell_type": "code",
   "execution_count": 14,
   "id": "902cefca-0d47-49b8-9032-fec70e5bb8ac",
   "metadata": {},
   "outputs": [
    {
     "name": "stdout",
     "output_type": "stream",
     "text": [
      "{'1': {'Escuderia': 'MERCEDES', 'puntos': 25}, '2': {'Escuderia': 'ALPINE', 'puntos': 20}, '3': {'Escuderia': 'ASTON MARTIN', 'puntos': 19}}\n"
     ]
    }
   ],
   "source": [
    "# G) Podio escuderia\n",
    "\n",
    "def crear_podio_escuderias(puestos_escuderias):\n",
    "    dic_podio_escuderias = {}\n",
    "    for puesto in puestos_escuderias:\n",
    "        max_puntos = 0\n",
    "        for escuderia in dic_escuderias.keys():\n",
    "            if all(escuderia != escuderia_en_podio[\"Escuderia\"] for escuderia_en_podio in dic_podio_escuderias.values()) \\\n",
    "               and dic_escuderias[escuderia][\"puntos\"] >= max_puntos:\n",
    "                dic_podio_escuderias[puesto] = {\"Escuderia\": escuderia, \\\n",
    "                                                \"puntos\":dic_escuderias[escuderia][\"puntos\"]}\n",
    "                max_puntos = dic_escuderias[escuderia][\"puntos\"]\n",
    "    return dic_podio_escuderias\n",
    "\n",
    "puestos_escuderias = [\"1\", \"2\", \"3\"]\n",
    "dic_podio_escuderias = crear_podio_escuderias(puestos_escuderias)\n",
    "print(dic_podio_escuderias)"
   ]
  },
  {
   "cell_type": "code",
   "execution_count": 22,
   "id": "e22866fb-fa3f-4f9e-9da3-ab966d94b8b4",
   "metadata": {},
   "outputs": [
    {
     "name": "stdout",
     "output_type": "stream",
     "text": [
      "{1: {'Escuderia': 'MERCEDES', 'puntos': 25}, 2: {'Escuderia': 'ALPINE', 'puntos': 20}, 3: {'Escuderia': 'ASTON MARTIN', 'puntos': 19}, 4: {'Escuderia': 'HAAS', 'puntos': 16}, 5: {'Escuderia': 'FERRARI', 'puntos': 15}, 6: {'Escuderia': 'RED BULL', 'puntos': 6}, 7: {'Escuderia': 'MCLAREN', 'puntos': 1}, 8: {'Escuderia': 'RB', 'puntos': 0}, 9: {'Escuderia': 'WILLIAMS', 'puntos': 0}, 10: {'Escuderia': 'KICK SAUBER', 'puntos': 0}}\n",
      "\n",
      "Puesto: 1: MERCEDES, Puntos: 25\n",
      "Puesto: 2: ALPINE, Puntos: 20\n",
      "Puesto: 3: ASTON MARTIN, Puntos: 19\n",
      "Puesto: 4: HAAS, Puntos: 16\n",
      "Puesto: 5: FERRARI, Puntos: 15\n",
      "Puesto: 6: RED BULL, Puntos: 6\n",
      "Puesto: 7: MCLAREN, Puntos: 1\n",
      "Puesto: 8: RB, Puntos: 0\n",
      "Puesto: 9: WILLIAMS, Puntos: 0\n",
      "Puesto: 10: KICK SAUBER, Puntos: 0\n"
     ]
    }
   ],
   "source": [
    "puestos_escuderias_total = [i for i in range(1, len(dic_escuderias)+1, 1)]\n",
    "dic_podio_escuderias = crear_podio_escuderias(puestos_escuderias_total)\n",
    "print(dic_podio_escuderias, end=\"\\n\\n\")\n",
    "for puesto in dic_podio_escuderias:\n",
    "    print(f\"Puesto: {puesto}: {dic_podio_escuderias[puesto]['Escuderia']}, Puntos: {dic_podio_escuderias[puesto]['puntos']}\")"
   ]
  }
 ],
 "metadata": {
  "kernelspec": {
   "display_name": "Python 3 (ipykernel)",
   "language": "python",
   "name": "python3"
  },
  "language_info": {
   "codemirror_mode": {
    "name": "ipython",
    "version": 3
   },
   "file_extension": ".py",
   "mimetype": "text/x-python",
   "name": "python",
   "nbconvert_exporter": "python",
   "pygments_lexer": "ipython3",
   "version": "3.11.7"
  }
 },
 "nbformat": 4,
 "nbformat_minor": 5
}
